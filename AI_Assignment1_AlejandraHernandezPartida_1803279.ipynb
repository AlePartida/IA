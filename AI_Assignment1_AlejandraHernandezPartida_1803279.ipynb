{
  "nbformat": 4,
  "nbformat_minor": 0,
  "metadata": {
    "colab": {
      "provenance": []
    },
    "kernelspec": {
      "name": "python3",
      "display_name": "Python 3"
    },
    "language_info": {
      "name": "python"
    }
  },
  "cells": [
    {
      "cell_type": "code",
      "execution_count": null,
      "metadata": {
        "id": "YNzqgmBWzuMA"
      },
      "outputs": [],
      "source": [
        "\"\"\"Assignment2 Python Excersices\n",
        "   Alejandra Hernandez Partida 1803279\n",
        "   N4-N6\"\"\"\n",
        "  "
      ]
    },
    {
      "cell_type": "code",
      "source": [
        "#Excersice 1\n",
        "name = input(\"Enter your name please: \")\n",
        "if name in (\"Ana\", \"John\", \"Peter\"):\n",
        "  print(\"Invalid Entry\")\n",
        "\n",
        "else:\n",
        "  print (\"Welcome\", name)"
      ],
      "metadata": {
        "colab": {
          "base_uri": "https://localhost:8080/"
        },
        "id": "NmrgxQt4037v",
        "outputId": "a46352a7-0183-4c79-96f3-33d63e8c3e3b"
      },
      "execution_count": 28,
      "outputs": [
        {
          "output_type": "stream",
          "name": "stdout",
          "text": [
            "Enter your name please: Ana\n",
            "Invalid Entry\n"
          ]
        }
      ]
    },
    {
      "cell_type": "code",
      "source": [
        "#Excercise 2\n",
        "lst = [11, 22, 33, 44, 55, 66]\n",
        "l.reverse()\n",
        "print(\"Last Element : \"+ str(l [0]))\n",
        "l = []\n",
        "for i in lst:\n",
        "\tl.insert(0, i)\n",
        "print(l)\n",
        "\n",
        "\n",
        "\n"
      ],
      "metadata": {
        "colab": {
          "base_uri": "https://localhost:8080/"
        },
        "id": "DL7ZNCru7xVz",
        "outputId": "b981034e-d852-4e4c-ff33-8fc309eec9cb"
      },
      "execution_count": 55,
      "outputs": [
        {
          "output_type": "stream",
          "name": "stdout",
          "text": [
            "Last Element : 66\n",
            "[66, 55, 44, 33, 22, 11]\n"
          ]
        }
      ]
    },
    {
      "cell_type": "code",
      "source": [
        "# Excercise 3\n",
        "phrase = [\"Hi\", \"teacher!\", \"How\", \"are\", \"you?\"]\n",
        "def print_in_frame(*phrase):\n",
        "  size = max(len(word) for word in phrase)\n",
        "  print('*' * (size + 4))\n",
        "  for word in phrase:\n",
        "    print('* {:<{}} *'.format(word, size))\n",
        "  print('*' * (size + 4))\n",
        "\n",
        "print_in_frame(*phrase)\n"
      ],
      "metadata": {
        "colab": {
          "base_uri": "https://localhost:8080/"
        },
        "id": "Ccu5UPcC7yVI",
        "outputId": "501b33fb-aacf-4c2e-d351-466ac95cb8e6"
      },
      "execution_count": 39,
      "outputs": [
        {
          "output_type": "stream",
          "name": "stdout",
          "text": [
            "************\n",
            "* Hi       *\n",
            "* teacher! *\n",
            "* How      *\n",
            "* are      *\n",
            "* you?     *\n",
            "************\n"
          ]
        }
      ]
    }
  ]
}